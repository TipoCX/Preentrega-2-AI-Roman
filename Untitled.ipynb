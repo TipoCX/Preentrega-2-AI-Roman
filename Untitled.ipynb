{
 "cells": [
  {
   "cell_type": "code",
   "execution_count": null,
   "id": "7ad9e095-7869-4993-b2b2-31424c2946e6",
   "metadata": {},
   "outputs": [],
   "source": [
    "import openai"
   ]
  },
  {
   "cell_type": "code",
   "execution_count": null,
   "id": "f8cc44b8-3119-4d38-9cb0-8b6a7d54aa31",
   "metadata": {},
   "outputs": [],
   "source": [
    "openai.api_key = \"\""
   ]
  },
  {
   "cell_type": "code",
   "execution_count": null,
   "id": "db8e6423-0733-44e0-98a2-c1e461cb3a7e",
   "metadata": {},
   "outputs": [],
   "source": [
    "prompts = [\n",
    "    \"¿Este fertilizante es adecuado para tomates?\",\n",
    "    \"¿Qué pesticida recomiendan para el control de plagas en maíz?\",\n",
    "    \"¿Cuáles son las especificaciones de esta semilla de trigo?\",\n",
    "    \"¿Cuáles son las políticas de envío y devolución?\"\n",
    "]"
   ]
  },
  {
   "cell_type": "code",
   "execution_count": null,
   "id": "9ad5b4c7-358e-4456-ab29-155a6bac9500",
   "metadata": {},
   "outputs": [],
   "source": [
    "def obtener_respuesta(prompt):\n",
    "    response = openai.Completion.create(\n",
    "        engine=\"text-davinci-004\",\n",
    "        prompt=prompt,\n",
    "        max_tokens=100\n",
    "    )\n",
    "    return response.choices[0].text.strip()"
   ]
  },
  {
   "cell_type": "code",
   "execution_count": null,
   "id": "72b4d598-f2a0-4cf2-8fbf-9fb746b0a0cd",
   "metadata": {},
   "outputs": [],
   "source": [
    "for prompt in prompts:\n",
    "    respuesta = obtener_respuesta(prompt)\n",
    "    print(f\"Pregunta: {prompt}\\nRespuesta: {respuesta}\\n\")"
   ]
  }
 ],
 "metadata": {
  "kernelspec": {
   "display_name": "Python 3 (ipykernel)",
   "language": "python",
   "name": "python3"
  },
  "language_info": {
   "codemirror_mode": {
    "name": "ipython",
    "version": 3
   },
   "file_extension": ".py",
   "mimetype": "text/x-python",
   "name": "python",
   "nbconvert_exporter": "python",
   "pygments_lexer": "ipython3",
   "version": "3.12.4"
  }
 },
 "nbformat": 4,
 "nbformat_minor": 5
}
